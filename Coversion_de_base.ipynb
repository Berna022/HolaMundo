{
  "nbformat": 4,
  "nbformat_minor": 0,
  "metadata": {
    "colab": {
      "provenance": [],
      "authorship_tag": "ABX9TyPSNXQ/wx6RlKL+MIdHEHJb",
      "include_colab_link": true
    },
    "kernelspec": {
      "name": "python3",
      "display_name": "Python 3"
    },
    "language_info": {
      "name": "python"
    }
  },
  "cells": [
    {
      "cell_type": "markdown",
      "metadata": {
        "id": "view-in-github",
        "colab_type": "text"
      },
      "source": [
        "<a href=\"https://colab.research.google.com/github/Berna022/HolaMundo/blob/main/Coversion_de_base.ipynb\" target=\"_parent\"><img src=\"https://colab.research.google.com/assets/colab-badge.svg\" alt=\"Open In Colab\"/></a>"
      ]
    },
    {
      "cell_type": "code",
      "execution_count": null,
      "metadata": {
        "id": "UyIMyhslf7Sx",
        "colab": {
          "base_uri": "https://localhost:8080/"
        },
        "outputId": "ab80bc38-68cd-4959-dfd2-b809c283bc0c",
        "collapsed": true
      },
      "outputs": [
        {
          "output_type": "stream",
          "name": "stdout",
          "text": [
            "Ingrese un numero: 25\n",
            "11001\n"
          ]
        }
      ],
      "source": [
        "class Binario:\n",
        "  def __init__(self):\n",
        "    self.items=[]\n",
        "\n",
        "  def push(self,datos):\n",
        "    self.items.append(datos)\n",
        "\n",
        "  def pop(self):\n",
        "    return self.items.pop() if not self.is_empty() else None\n",
        "\n",
        "  def is_empty(self):\n",
        "    return len(self.items)==0\n",
        "\n",
        "  def bin(self,numero):\n",
        "    pila=Binario()\n",
        "    while numero > 0:\n",
        "      residuo=numero % 2\n",
        "      pila.push(residuo)\n",
        "      numero=numero // 2\n",
        "    binario=\"\"\n",
        "    while not pila.is_empty():\n",
        "      binario+=str(pila.pop())\n",
        "    return binario\n",
        "\n",
        "num=int(input(\"Ingrese un numero: \"))\n",
        "binario=Binario()\n",
        "print(binario.bin(num))"
      ]
    },
    {
      "cell_type": "code",
      "source": [],
      "metadata": {
        "id": "M-J83aHtkL_u"
      },
      "execution_count": null,
      "outputs": []
    }
  ]
}