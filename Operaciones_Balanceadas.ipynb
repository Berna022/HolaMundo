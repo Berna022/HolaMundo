{
  "nbformat": 4,
  "nbformat_minor": 0,
  "metadata": {
    "colab": {
      "provenance": [],
      "authorship_tag": "ABX9TyMBwMYlumLYoMfZN3EA7nIF",
      "include_colab_link": true
    },
    "kernelspec": {
      "name": "python3",
      "display_name": "Python 3"
    },
    "language_info": {
      "name": "python"
    }
  },
  "cells": [
    {
      "cell_type": "markdown",
      "metadata": {
        "id": "view-in-github",
        "colab_type": "text"
      },
      "source": [
        "<a href=\"https://colab.research.google.com/github/Berna022/HolaMundo/blob/main/Operaciones_Balanceadas.ipynb\" target=\"_parent\"><img src=\"https://colab.research.google.com/assets/colab-badge.svg\" alt=\"Open In Colab\"/></a>"
      ]
    },
    {
      "cell_type": "code",
      "execution_count": 4,
      "metadata": {
        "colab": {
          "base_uri": "https://localhost:8080/"
        },
        "id": "V7oqGMxp2Uyo",
        "outputId": "5c77161c-df65-492a-f104-27b96a336ff4"
      },
      "outputs": [
        {
          "output_type": "stream",
          "name": "stdout",
          "text": [
            "Ingrese una expresión: (25)+(65)+(58)\n",
            "La expresión está balanceada\n"
          ]
        }
      ],
      "source": [
        "class Pila:\n",
        "  def __init__(self):\n",
        "    self.caja = []\n",
        "\n",
        "  def push(self, dato):\n",
        "    self.caja.append(dato)\n",
        "\n",
        "  def pop(self):\n",
        "    return self.caja.pop()\n",
        "\n",
        "  def is_empty(self):\n",
        "    return len(self.caja) == 0\n",
        "\n",
        "def chequeo(expresion):\n",
        "  lista = Pila()\n",
        "  for caracter in expresion:\n",
        "    if caracter in \"()\":\n",
        "      lista.push(caracter)\n",
        "\n",
        "  return len(lista.caja) % 2 == 0\n",
        "\n",
        "expresion = input(\"Ingrese una expresión: \")\n",
        "if chequeo(expresion):\n",
        "  print(\"La expresión está balanceada\")\n",
        "else:\n",
        "  print(\"La expresión no está balanceada\")"
      ]
    }
  ]
}